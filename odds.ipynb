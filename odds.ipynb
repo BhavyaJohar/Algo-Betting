{
 "cells": [
  {
   "cell_type": "markdown",
   "id": "f39829cf",
   "metadata": {},
   "source": [
    "# Pull Odds"
   ]
  },
  {
   "cell_type": "code",
   "execution_count": 34,
   "id": "04629205",
   "metadata": {},
   "outputs": [],
   "source": [
    "import os\n",
    "import requests\n",
    "import json\n",
    "\n",
    "API_KEY = os.getenv(\"ODDS_API_KEY\", \"3b1982ba40267fc53278ccf198874743\")\n",
    "\n",
    "url = \"https://api.the-odds-api.com/v4/sports/upcoming/odds/\"\n",
    "params = {\n",
    "    \"apiKey\": API_KEY,\n",
    "    \"sport\": \"tennis_atp_french_open\",\n",
    "    \"regions\": \"us\",          # us | uk | eu | au | us2\n",
    "    \"markets\": \"h2h\",         # h2h, spreads, totals, outrights, etc.\n",
    "    \"oddsFormat\": \"american\",    # decimal | american\n",
    "    \"dateFormat\": \"iso\",         # iso | unix\n",
    "}\n",
    "\n",
    "resp = requests.get(url, params=params)\n",
    "resp.raise_for_status()\n",
    "games = resp.json()"
   ]
  },
  {
   "cell_type": "code",
   "execution_count": 35,
   "id": "7200e737",
   "metadata": {},
   "outputs": [],
   "source": [
    "with open(\"french_open_odds_outright.json\", \"w\") as f:\n",
    "    json.dump(games, f, indent=2)"
   ]
  },
  {
   "cell_type": "markdown",
   "id": "07b83cb1",
   "metadata": {},
   "source": [
    "# Positive EV Bets"
   ]
  },
  {
   "cell_type": "code",
   "execution_count": 36,
   "id": "fca1a9b5",
   "metadata": {},
   "outputs": [],
   "source": [
    "import csv\n",
    "import json\n",
    "import math\n",
    "\n",
    "# ———————— 1) load model predictions ——————————————\n",
    "# We assume proba = P(player1 wins); so P(player2 wins) = 1 - proba\n",
    "preds = {}\n",
    "with open(\"roland_predictions.csv\", newline=\"\") as f:\n",
    "    reader = csv.DictReader(f)\n",
    "    for row in reader:\n",
    "        p1_name = row[\"player1_name\"]\n",
    "        p2_name = row[\"player2_name\"]\n",
    "        p1_prob = float(row[\"proba\"])\n",
    "        p2_prob = 1.0 - p1_prob\n",
    "        # store both (player1,player2) and reversed keys for easy lookup\n",
    "        preds[(p1_name, p2_name)] = (p1_prob, p2_prob)\n",
    "        preds[(p2_name, p1_name)] = (p2_prob, p1_prob)"
   ]
  },
  {
   "cell_type": "code",
   "execution_count": 37,
   "id": "d276d2b4",
   "metadata": {},
   "outputs": [],
   "source": [
    "# ———————— 2) load odds JSON ————————————————————————\n",
    "with open(\"french_open_odds_pretty.json\") as f:\n",
    "    events = json.load(f)"
   ]
  },
  {
   "cell_type": "code",
   "execution_count": 38,
   "id": "a43df116",
   "metadata": {},
   "outputs": [],
   "source": [
    "# ———————— 3) helper: implied probability from American odds ——\n",
    "def implied_prob_from_american(odds: float) -> float:\n",
    "    \"\"\"\n",
    "    Convert American odds to implied probability.\n",
    "        - Positive odds:  +150 → 100 / (150 + 100) = 0.40\n",
    "        - Negative odds:  -200 → 200 / (200 + 100) = 0.66…\n",
    "    \"\"\"\n",
    "    odds = float(odds)\n",
    "    if odds > 0:\n",
    "        return 100.0 / (odds + 100.0)\n",
    "    else:\n",
    "        return -odds / (-odds + 100.0)"
   ]
  },
  {
   "cell_type": "code",
   "execution_count": 39,
   "id": "e1e21c60",
   "metadata": {},
   "outputs": [],
   "source": [
    "# ———————— 4) scan for positive EV bets —————————————\n",
    "ev_bets = []\n",
    "\n",
    "for ev in events:\n",
    "    home = ev[\"home_team\"]\n",
    "    away = ev[\"away_team\"]\n",
    "\n",
    "    # skip if we have no model prediction for this pairing\n",
    "    if (home, away) not in preds:\n",
    "        continue\n",
    "\n",
    "    p_home, p_away = preds[(home, away)]\n",
    "\n",
    "    for book in ev.get(\"bookmakers\", []):\n",
    "        book_title = book[\"title\"]\n",
    "        for market in book.get(\"markets\", []):\n",
    "            if market[\"key\"] != \"h2h\":\n",
    "                continue\n",
    "            for outcome in market.get(\"outcomes\", []):\n",
    "                name = outcome[\"name\"]\n",
    "                odds = outcome[\"price\"]\n",
    "                imp = implied_prob_from_american(odds)\n",
    "                model_p = p_home if name == home else p_away\n",
    "\n",
    "                ev_pct = model_p / imp - 1.0\n",
    "                if ev_pct > 0:\n",
    "                    ev_bets.append({\n",
    "                        \"match\": f\"{home} vs {away}\",\n",
    "                        \"bookmaker\": book_title,\n",
    "                        \"selection\": name,\n",
    "                        \"odds\": odds,\n",
    "                        \"model_prob\": model_p,\n",
    "                        \"implied_prob\": imp,\n",
    "                        \"ev\": ev_pct,\n",
    "                    })"
   ]
  },
  {
   "cell_type": "code",
   "execution_count": 40,
   "id": "d2f2a5be",
   "metadata": {},
   "outputs": [
    {
     "name": "stdout",
     "output_type": "stream",
     "text": [
      "\n",
      "Positive-EV bets found: 0\n",
      "\n",
      "Match                          Bookmaker       Pick                 Odds      EV%\n",
      "-------------------------------------------------------------------------------------\n"
     ]
    }
   ],
   "source": [
    "# ———————— 5) pretty‑print the positive EV bets ————————\n",
    "# sort by highest EV first\n",
    "ev_bets.sort(key=lambda x: x[\"ev\"], reverse=True)\n",
    "\n",
    "print(f\"\\nPositive-EV bets found: {len(ev_bets)}\\n\")\n",
    "print(f\"{'Match':30s} {'Bookmaker':15s} {'Pick':20s} {'Odds':6s} {'EV%':>6s}\")\n",
    "print(\"-\" * 85)\n",
    "for b in ev_bets:\n",
    "    ev_display = b[\"ev\"] * 100\n",
    "    print(f\"{b['match']:30s} {b['bookmaker']:15s} {b['selection']:20s} \"\n",
    "            f\"{b['odds']:6d} {ev_display:6.1f}%\")"
   ]
  },
  {
   "cell_type": "code",
   "execution_count": null,
   "id": "92790b44",
   "metadata": {},
   "outputs": [],
   "source": []
  }
 ],
 "metadata": {
  "kernelspec": {
   "display_name": "base",
   "language": "python",
   "name": "python3"
  },
  "language_info": {
   "codemirror_mode": {
    "name": "ipython",
    "version": 3
   },
   "file_extension": ".py",
   "mimetype": "text/x-python",
   "name": "python",
   "nbconvert_exporter": "python",
   "pygments_lexer": "ipython3",
   "version": "3.12.8"
  }
 },
 "nbformat": 4,
 "nbformat_minor": 5
}
